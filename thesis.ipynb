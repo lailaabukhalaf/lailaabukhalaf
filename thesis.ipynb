{
  "nbformat": 4,
  "nbformat_minor": 0,
  "metadata": {
    "colab": {
      "provenance": [],
      "mount_file_id": "1y4qqH-Xv_sst8YgW6yRuL7oG8S_HfXx_",
      "authorship_tag": "ABX9TyOoH+s4o4y0uRPHO6HxPtPg",
      "include_colab_link": true
    },
    "kernelspec": {
      "name": "python3",
      "display_name": "Python 3"
    },
    "language_info": {
      "name": "python"
    }
  },
  "cells": [
    {
      "cell_type": "markdown",
      "metadata": {
        "id": "view-in-github",
        "colab_type": "text"
      },
      "source": [
        "<a href=\"https://colab.research.google.com/github/lailaabukhalaf/lailaabukhalaf/blob/main/thesis.ipynb\" target=\"_parent\"><img src=\"https://colab.research.google.com/assets/colab-badge.svg\" alt=\"Open In Colab\"/></a>"
      ]
    },
    {
      "cell_type": "markdown",
      "source": [
        "why we use torch ?\n",
        "\n",
        "* Building and training neural networks\n",
        "\n",
        "* Handling tensors (multi-dimensional arrays like NumPy, but faster and GPU-ready)\n",
        "\n",
        "* Performing automatic differentiation (for backpropagation)\n",
        "\n",
        "**torchvision is a companion package for image tasks**\n",
        "\n",
        "It includes:\n",
        "\n",
        "Popular datasets (MNIST, CIFAR-10, ImageNet)\n",
        "\n",
        "Image transforms (resize, normalize, augment)\n",
        "\n",
        "Pre-trained models (ResNet, VGG, etc.)\n",
        "\n",
        "\n",
        "\n",
        "\n"
      ],
      "metadata": {
        "id": "FKtNFQBwe_ov"
      }
    },
    {
      "cell_type": "code",
      "source": [
        "import matplotlib.pyplot as plt\n",
        "from tqdm import tqdm\n",
        "import numpy as np\n",
        "import pandas as pd\n",
        "from sklearn.metrics import precision_score, recall_score, f1_score\n",
        "import os\n",
        "import torch\n",
        "import torch.nn as nn\n",
        "import torch.optim as optim\n",
        "from torchvision import datasets, transforms\n",
        "from torch.utils.data import DataLoader\n"
      ],
      "metadata": {
        "id": "4gs2R3JFgBHA"
      },
      "execution_count": null,
      "outputs": []
    },
    {
      "cell_type": "markdown",
      "source": [
        "**Transform function**\n",
        "\n",
        "the transform is a preprocessing function (or a chain of functions) that you apply automatically to every image when it's loaded.\n",
        "\n",
        "every time you load an image, do this to it before giving it to my model.\n",
        "\n",
        "\n",
        "What kind of things can transform do?\n",
        "\n",
        "* Convert images to tensors (ToTensor())\n",
        "\n",
        "* Normalize pixel values (Normalize(mean, std))\n",
        "\n",
        "* Resize, crop, or flip images\n",
        "\n",
        "* Augment images (e.g., rotate, change brightness, zoom)\n",
        "\n",
        "* Chain multiple steps together with transforms.Compose([...])\n",
        "\n",
        "\n"
      ],
      "metadata": {
        "id": "zwjoXpAogGN-"
      }
    },
    {
      "cell_type": "code",
      "source": [
        "\n",
        "\n",
        "# Define transformations (convert to tensor and normalize)\n",
        "transform = transforms.Compose([\n",
        "    transforms.ToTensor(),  # Converts to [0,1] tensor\n",
        "    transforms.Normalize((0.1307,), (0.3081,))  # Mean and std of MNIST\n",
        "])\n"
      ],
      "metadata": {
        "id": "mfGZqgDSzAVe"
      },
      "execution_count": null,
      "outputs": []
    },
    {
      "cell_type": "markdown",
      "source": [
        "what does tranformer do ?  example from raw to after transformation ( convert them to tensors and also normalize)"
      ],
      "metadata": {
        "id": "yETsvi_Rj7rQ"
      }
    },
    {
      "cell_type": "code",
      "source": [
        "#Define transformations\n",
        "to_tensor = transforms.ToTensor()\n",
        "normalize = transforms.Normalize((0.1307,), (0.3081,))\n",
        "\n",
        "#Load MNIST dataset without any transform\n",
        "raw_dataset = datasets.MNIST(root=\"./data\", train=True, download=True)"
      ],
      "metadata": {
        "colab": {
          "base_uri": "https://localhost:8080/"
        },
        "id": "OZ7OWRVojiC0",
        "outputId": "723b8d5d-bc4f-48c1-e60b-5ad5ae1e2ea1"
      },
      "execution_count": null,
      "outputs": [
        {
          "output_type": "stream",
          "name": "stderr",
          "text": [
            "100%|██████████| 9.91M/9.91M [00:00<00:00, 57.9MB/s]\n",
            "100%|██████████| 28.9k/28.9k [00:00<00:00, 1.69MB/s]\n",
            "100%|██████████| 1.65M/1.65M [00:00<00:00, 14.2MB/s]\n",
            "100%|██████████| 4.54k/4.54k [00:00<00:00, 4.99MB/s]\n"
          ]
        }
      ]
    },
    {
      "cell_type": "code",
      "source": [
        "image, label = raw_dataset[0]  # Get the first image\n",
        "image"
      ],
      "metadata": {
        "colab": {
          "base_uri": "https://localhost:8080/",
          "height": 45
        },
        "id": "6T_g54IijlxA",
        "outputId": "14993595-4ca0-4169-c2f7-b046c221dd9a"
      },
      "execution_count": null,
      "outputs": [
        {
          "output_type": "execute_result",
          "data": {
            "text/plain": [
              "<PIL.Image.Image image mode=L size=28x28>"
            ],
            "image/png": "[encoded data removed]",
            "image/jpeg": "[encoded data removed]"
          },
          "metadata": {},
          "execution_count": 13
        }
      ]
    },
    {
      "cell_type": "code",
      "source": [
        "# Apply ToTensor and Normalize separately\n",
        "image_tensor = to_tensor(image)\n",
        "image_normalized = normalize(image_tensor)"
      ],
      "metadata": {
        "id": "jUb4IJbcjxbY"
      },
      "execution_count": null,
      "outputs": []
    },
    {
      "cell_type": "code",
      "source": [
        "# Visualize all three versions\n",
        "fig, axs = plt.subplots(1, 3, figsize=(12, 4))\n",
        "\n",
        "# Original image\n",
        "axs[0].imshow(image, cmap=\"gray\")\n",
        "axs[0].set_title(\"Original\")\n",
        "axs[0].axis(\"off\")\n",
        "\n",
        "# After ToTensor (still looks normal)\n",
        "axs[1].imshow(image_tensor.squeeze(), cmap=\"gray\")\n",
        "axs[1].set_title(\"After ToTensor()\")\n",
        "axs[1].axis(\"off\")\n",
        "\n",
        "# After Normalize (looks weird but it's expected)\n",
        "axs[2].imshow(image_normalized.squeeze(), cmap=\"gray\")\n",
        "axs[2].set_title(\"After Normalize()\")\n",
        "axs[2].axis(\"off\")\n",
        "\n",
        "plt.tight_layout()\n",
        "plt.show()\n",
        "\n"
      ],
      "metadata": {
        "colab": {
          "base_uri": "https://localhost:8080/",
          "height": 424
        },
        "id": "rgC4UjHfjeKu",
        "outputId": "c1de84bc-448a-4600-afa6-031e5b8b8aad"
      },
      "execution_count": null,
      "outputs": [
        {
          "output_type": "display_data",
          "data": {
            "text/plain": [
              "<Figure size 1200x400 with 3 Axes>"
            ],
            "image/png": "[encoded data removed]"
          },
          "metadata": {}
        }
      ]
    },
    {
      "cell_type": "markdown",
      "source": [
        "why do that ?\n",
        "\n",
        "Because raw images (like PNG or JPEG files) can't be directly used in neural networks. We need to:\n",
        "\n",
        "Convert them to tensors\n",
        "\n",
        "Scale or normalize values\n",
        "\n",
        "Make sure they’re the same size and format to fit it in the model"
      ],
      "metadata": {
        "id": "QQkzQQ3GiFDn"
      }
    },
    {
      "cell_type": "markdown",
      "source": [
        "For any model we need to have\n",
        "\n",
        "* Training Data\n",
        "* Testing Data\n",
        "\n",
        "train = True meaning this data is for training\n",
        "\n",
        "train = false.  - for testing\n",
        "\n",
        "\n",
        "then we need to apply the transformation on the dataset\n"
      ],
      "metadata": {
        "id": "rAvg8GVld0Od"
      }
    },
    {
      "cell_type": "code",
      "source": [
        "# Download the training and test datasets\n",
        "train_dataset = datasets.MNIST(\n",
        "    root='./data',\n",
        "    train=True,\n",
        "    download=True,\n",
        "    transform=transform\n",
        ")"
      ],
      "metadata": {
        "id": "iYg8ZyNAi9y0"
      },
      "execution_count": null,
      "outputs": []
    },
    {
      "cell_type": "code",
      "source": [
        "test_dataset = datasets.MNIST(\n",
        "    root='./data',\n",
        "    train=False,\n",
        "    download=True,\n",
        "    transform=transform\n",
        ")\n",
        "\n",
        "#Create data loaders\n",
        "train_loader = DataLoader(train_dataset, batch_size=64, shuffle=True)\n",
        "test_loader = DataLoader(test_dataset, batch_size=64, shuffle=False)\n"
      ],
      "metadata": {
        "id": "Be8FacHfiIZt"
      },
      "execution_count": null,
      "outputs": []
    },
    {
      "cell_type": "markdown",
      "source": [
        "shuffle=True, it means the data will be randomly shuffled at the beginning of each training epoch.\n",
        "\n",
        "Why shuffle?\n",
        "\n",
        "Prevents the model from learning the order of the data.\n",
        "\n",
        "Improves generalization.\n",
        "\n",
        "Especially useful when your data might have some order (e.g., grouped by class).\n",
        "\n",
        "\n",
        "- shuffle=True → randomly rearrange the training data every epoch.\n",
        "\n",
        "- shuffle=False → keep the order as is (used for test/validation)."
      ],
      "metadata": {
        "id": "uNJUsAtYejtI"
      }
    },
    {
      "cell_type": "markdown",
      "source": [
        "batch_size=64: The data will be split into mini-batches of 64 samples. This helps improve training speed and generalization.\n",
        "\n",
        "Efficient memory usage: Data is loaded in chunks (batches) instead of all at once.\n",
        "\n",
        "Easy iteration: we can loop through train_loader or test_loader using a for loop."
      ],
      "metadata": {
        "id": "aRkP-MansfrR"
      }
    },
    {
      "cell_type": "code",
      "source": [
        "\n",
        "#Create data loaders\n",
        "train_loader = DataLoader(train_dataset, batch_size=64, shuffle=True)\n",
        "test_loader = DataLoader(test_dataset, batch_size=64, shuffle=False)\n"
      ],
      "metadata": {
        "id": "FjPb9sAmezOj"
      },
      "execution_count": null,
      "outputs": []
    },
    {
      "cell_type": "markdown",
      "source": [
        "Grayscale \t    1 channel\n",
        "\n",
        "RGB            \t3 channels (Red, Green, Blue)\n",
        "\n",
        "Conv2d(1, 32, kernel_size=3)\n",
        "\n",
        "Conv2d(32, 64, kernel_size=3)\n",
        "\n",
        "filter size 3*3 go through each input\n",
        "Input: 32 channels (from previous layer)\n",
        "\n",
        "Output: 64 channels (64 learned filters)\n",
        "\n"
      ],
      "metadata": {
        "id": "NRKVZJ1E7TGA"
      }
    },
    {
      "cell_type": "markdown",
      "source": [
        "why its 8 16 32 64\n",
        "\n",
        "\n",
        "GPUs and CPUs are optimized for powers of 2 because of how memory is stored and accessed.\n",
        "\n",
        "Powers of 2 align well with hardware (e.g., 8-bit, 16-bit, 32-bit memory blocks), which makes matrix operations faster.\n",
        "\n",
        "As you go deeper in the network, each layer captures more abstract features. 32-> 64-> 128,...\n",
        "\n",
        "\n",
        "So you increase the number of filters to capture more complexity."
      ],
      "metadata": {
        "id": "ky7UGLVrBQ9K"
      }
    },
    {
      "cell_type": "markdown",
      "source": [
        "Can we Use 7 or 10?\n",
        "Yes, you technically can. PyTorch lets you do this:\n",
        "\n",
        "Conv2d(1, 7, kernel_size=3)\n",
        "\n",
        "It will work! But:\n",
        "\n",
        "You’ll lose some hardware speed benefits.\n",
        "\n",
        "It's uncommon, so harder to compare your architecture with others.\n",
        "\n"
      ],
      "metadata": {
        "id": "Rl1bYk5VBoGd"
      }
    },
    {
      "cell_type": "code",
      "source": [
        "from torch import nn\n",
        "import sys\n",
        "import torch.nn.functional as F"
      ],
      "metadata": {
        "id": "4KgsEcFWse3v"
      },
      "execution_count": 8,
      "outputs": []
    },
    {
      "cell_type": "markdown",
      "source": [
        "nn is used for layers (like Conv2d, Linear).\n",
        "\n",
        "F gives access to functional APIs (like F.relu, F.log_softmax)\n",
        "\n",
        "\n"
      ],
      "metadata": {
        "id": "e7xS9Qj9MT2M"
      }
    },
    {
      "cell_type": "code",
      "source": [],
      "metadata": {
        "id": "HsiqLkw8VnXv"
      },
      "execution_count": null,
      "outputs": []
    },
    {
      "cell_type": "code",
      "source": [],
      "metadata": {
        "id": "NcyZ5jmOd64T"
      },
      "execution_count": null,
      "outputs": []
    }
  ]
}